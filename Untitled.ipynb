{
 "cells": [
  {
   "cell_type": "code",
   "execution_count": 1,
   "id": "94c912c2-f996-4610-8820-536d89e87215",
   "metadata": {},
   "outputs": [
    {
     "name": "stderr",
     "output_type": "stream",
     "text": [
      "Matplotlib is building the font cache; this may take a moment.\n"
     ]
    }
   ],
   "source": [
    "from pptx import Presentation\n",
    "import pandas as pd\n",
    "import seaborn as sns\n",
    "import matplotlib.pyplot as plt\n"
   ]
  },
  {
   "cell_type": "code",
   "execution_count": 21,
   "id": "9a3dec66-5998-475e-afb2-6559aceb59ac",
   "metadata": {},
   "outputs": [],
   "source": [
    "#load data\n",
    "file = \"cat toy info.xlsx\"\n",
    "df = pd.read_excel(file)"
   ]
  },
  {
   "cell_type": "code",
   "execution_count": null,
   "id": "c0c02e5a-0337-43cd-b9db-6543406dd29a",
   "metadata": {},
   "outputs": [],
   "source": []
  },
  {
   "cell_type": "code",
   "execution_count": null,
   "id": "3c97ced7-3361-4c92-b202-4d84a9a47e26",
   "metadata": {},
   "outputs": [
    {
     "ename": "KeyError",
     "evalue": "'Updated'",
     "output_type": "error",
     "traceback": [
      "\u001b[1;31m---------------------------------------------------------------------------\u001b[0m",
      "\u001b[1;31mKeyError\u001b[0m                                  Traceback (most recent call last)",
      "File \u001b[1;32m~\\anaconda3\\lib\\site-packages\\pandas\\core\\indexes\\base.py:3621\u001b[0m, in \u001b[0;36mIndex.get_loc\u001b[1;34m(self, key, method, tolerance)\u001b[0m\n\u001b[0;32m   3620\u001b[0m \u001b[38;5;28;01mtry\u001b[39;00m:\n\u001b[1;32m-> 3621\u001b[0m     \u001b[38;5;28;01mreturn\u001b[39;00m \u001b[38;5;28;43mself\u001b[39;49m\u001b[38;5;241;43m.\u001b[39;49m\u001b[43m_engine\u001b[49m\u001b[38;5;241;43m.\u001b[39;49m\u001b[43mget_loc\u001b[49m\u001b[43m(\u001b[49m\u001b[43mcasted_key\u001b[49m\u001b[43m)\u001b[49m\n\u001b[0;32m   3622\u001b[0m \u001b[38;5;28;01mexcept\u001b[39;00m \u001b[38;5;167;01mKeyError\u001b[39;00m \u001b[38;5;28;01mas\u001b[39;00m err:\n",
      "File \u001b[1;32m~\\anaconda3\\lib\\site-packages\\pandas\\_libs\\index.pyx:136\u001b[0m, in \u001b[0;36mpandas._libs.index.IndexEngine.get_loc\u001b[1;34m()\u001b[0m\n",
      "File \u001b[1;32m~\\anaconda3\\lib\\site-packages\\pandas\\_libs\\index.pyx:163\u001b[0m, in \u001b[0;36mpandas._libs.index.IndexEngine.get_loc\u001b[1;34m()\u001b[0m\n",
      "File \u001b[1;32mpandas\\_libs\\hashtable_class_helper.pxi:5198\u001b[0m, in \u001b[0;36mpandas._libs.hashtable.PyObjectHashTable.get_item\u001b[1;34m()\u001b[0m\n",
      "File \u001b[1;32mpandas\\_libs\\hashtable_class_helper.pxi:5206\u001b[0m, in \u001b[0;36mpandas._libs.hashtable.PyObjectHashTable.get_item\u001b[1;34m()\u001b[0m\n",
      "\u001b[1;31mKeyError\u001b[0m: 'Updated'",
      "\nThe above exception was the direct cause of the following exception:\n",
      "\u001b[1;31mKeyError\u001b[0m                                  Traceback (most recent call last)",
      "Input \u001b[1;32mIn [25]\u001b[0m, in \u001b[0;36m<cell line: 5>\u001b[1;34m()\u001b[0m\n\u001b[0;32m      3\u001b[0m \u001b[38;5;66;03m#will not include data if it has not been updated in 2 weeks\u001b[39;00m\n\u001b[0;32m      4\u001b[0m last_report \u001b[38;5;241m=\u001b[39m today \u001b[38;5;241m-\u001b[39m pd\u001b[38;5;241m.\u001b[39mTimedelta(\u001b[38;5;241m2\u001b[39m , \u001b[38;5;124m'\u001b[39m\u001b[38;5;124mw\u001b[39m\u001b[38;5;124m'\u001b[39m)\n\u001b[1;32m----> 5\u001b[0m df_recent \u001b[38;5;241m=\u001b[39m df[\u001b[43mdf\u001b[49m\u001b[43m[\u001b[49m\u001b[38;5;124;43m'\u001b[39;49m\u001b[38;5;124;43mUpdated\u001b[39;49m\u001b[38;5;124;43m'\u001b[39;49m\u001b[43m]\u001b[49m \u001b[38;5;241m>\u001b[39m\u001b[38;5;241m=\u001b[39m last_report]\u001b[38;5;241m.\u001b[39mcopy()\n\u001b[0;32m      6\u001b[0m df_recent\u001b[38;5;241m.\u001b[39msort_values(by \u001b[38;5;241m=\u001b[39m \u001b[38;5;124m'\u001b[39m\u001b[38;5;124mUpdated\u001b[39m\u001b[38;5;124m'\u001b[39m , ascending \u001b[38;5;241m=\u001b[39m \u001b[38;5;28;01mFalse\u001b[39;00m , inplace \u001b[38;5;241m=\u001b[39m \u001b[38;5;28;01mTrue\u001b[39;00m)\n\u001b[0;32m      7\u001b[0m df_recent \u001b[38;5;241m=\u001b[39m df_recent\u001b[38;5;241m.\u001b[39mhead(\u001b[38;5;241m20\u001b[39m)\n",
      "File \u001b[1;32m~\\anaconda3\\lib\\site-packages\\pandas\\core\\frame.py:3505\u001b[0m, in \u001b[0;36mDataFrame.__getitem__\u001b[1;34m(self, key)\u001b[0m\n\u001b[0;32m   3503\u001b[0m \u001b[38;5;28;01mif\u001b[39;00m \u001b[38;5;28mself\u001b[39m\u001b[38;5;241m.\u001b[39mcolumns\u001b[38;5;241m.\u001b[39mnlevels \u001b[38;5;241m>\u001b[39m \u001b[38;5;241m1\u001b[39m:\n\u001b[0;32m   3504\u001b[0m     \u001b[38;5;28;01mreturn\u001b[39;00m \u001b[38;5;28mself\u001b[39m\u001b[38;5;241m.\u001b[39m_getitem_multilevel(key)\n\u001b[1;32m-> 3505\u001b[0m indexer \u001b[38;5;241m=\u001b[39m \u001b[38;5;28;43mself\u001b[39;49m\u001b[38;5;241;43m.\u001b[39;49m\u001b[43mcolumns\u001b[49m\u001b[38;5;241;43m.\u001b[39;49m\u001b[43mget_loc\u001b[49m\u001b[43m(\u001b[49m\u001b[43mkey\u001b[49m\u001b[43m)\u001b[49m\n\u001b[0;32m   3506\u001b[0m \u001b[38;5;28;01mif\u001b[39;00m is_integer(indexer):\n\u001b[0;32m   3507\u001b[0m     indexer \u001b[38;5;241m=\u001b[39m [indexer]\n",
      "File \u001b[1;32m~\\anaconda3\\lib\\site-packages\\pandas\\core\\indexes\\base.py:3623\u001b[0m, in \u001b[0;36mIndex.get_loc\u001b[1;34m(self, key, method, tolerance)\u001b[0m\n\u001b[0;32m   3621\u001b[0m     \u001b[38;5;28;01mreturn\u001b[39;00m \u001b[38;5;28mself\u001b[39m\u001b[38;5;241m.\u001b[39m_engine\u001b[38;5;241m.\u001b[39mget_loc(casted_key)\n\u001b[0;32m   3622\u001b[0m \u001b[38;5;28;01mexcept\u001b[39;00m \u001b[38;5;167;01mKeyError\u001b[39;00m \u001b[38;5;28;01mas\u001b[39;00m err:\n\u001b[1;32m-> 3623\u001b[0m     \u001b[38;5;28;01mraise\u001b[39;00m \u001b[38;5;167;01mKeyError\u001b[39;00m(key) \u001b[38;5;28;01mfrom\u001b[39;00m \u001b[38;5;21;01merr\u001b[39;00m\n\u001b[0;32m   3624\u001b[0m \u001b[38;5;28;01mexcept\u001b[39;00m \u001b[38;5;167;01mTypeError\u001b[39;00m:\n\u001b[0;32m   3625\u001b[0m     \u001b[38;5;66;03m# If we have a listlike key, _check_indexing_error will raise\u001b[39;00m\n\u001b[0;32m   3626\u001b[0m     \u001b[38;5;66;03m#  InvalidIndexError. Otherwise we fall through and re-raise\u001b[39;00m\n\u001b[0;32m   3627\u001b[0m     \u001b[38;5;66;03m#  the TypeError.\u001b[39;00m\n\u001b[0;32m   3628\u001b[0m     \u001b[38;5;28mself\u001b[39m\u001b[38;5;241m.\u001b[39m_check_indexing_error(key)\n",
      "\u001b[1;31mKeyError\u001b[0m: 'Updated'"
     ]
    }
   ],
   "source": [
    "\"\"\"\n",
    "#filter down data frame\n",
    "today = pd.to_datetime('today')\n",
    "#will not include data if it has not been updated in 2 weeks\n",
    "last_report = today - pd.Timedelta(2 , 'w')\n",
    "df_recent = df[df['Updated'] >= last_report].copy()\n",
    "df_recent.sort_values(by = 'Updated' , ascending = False , inplace = True)\n",
    "df_recent = df_recent.head(20)\n",
    "df_recent.reset_index(inplace = True)\n",
    "file1 = 'FH - NIST Maturity Impact Calculator 2022 RE Baseline.xlsx'\n",
    "sheet = 'Project'\n",
    "df1 = pd.read_excel(file1 , sheet)\n",
    "\"\"\""
   ]
  },
  {
   "cell_type": "code",
   "execution_count": 5,
   "id": "27fb51ef-3eee-41f8-8833-fa27a41b9688",
   "metadata": {},
   "outputs": [],
   "source": [
    "d = {'progress': 10,\n",
    " 'accomplishments': 11,\n",
    " 'discussion points': 12,\n",
    " 'vendor_0': 13,\n",
    " 'vendor_1': 31,\n",
    " 'vendor_2': 32,\n",
    " 'vendor_3': 47,\n",
    " 'vendor_4': 48,\n",
    " 'vendor_5': 33,\n",
    " 'vendor_6': 50,\n",
    " 'vendor_7': 46,\n",
    " 'vendor_8': 34,\n",
    " 'vendor_9': 35,\n",
    " 'vendor_10': 36,\n",
    " 'vendor_11': 38,\n",
    " 'vendor_12': 39,\n",
    " 'vendor_13': 40,\n",
    " 'vendor_14': 41,\n",
    " 'vendor_15': 49,\n",
    " 'vendor_16': 43,\n",
    " 'vendor_17': 44,\n",
    " 'vendor_18': 45,\n",
    " 'vendor_19': 29,\n",
    " 'description_0': 51,\n",
    " 'description_1': 53,\n",
    " 'description_2': 54,\n",
    " 'description_3': 67,\n",
    " 'description_4': 68,\n",
    " 'description_5': 55,\n",
    " 'description_6': 70,\n",
    " 'description_7': 66,\n",
    " 'description_8': 56,\n",
    " 'description_9': 57,\n",
    " 'description_10': 58,\n",
    " 'description_11': 59,\n",
    " 'description_12': 60,\n",
    " 'description_13': 61,\n",
    " 'description_14': 62,\n",
    " 'description_15': 69,\n",
    " 'description_16': 63,\n",
    " 'description_17': 64,\n",
    " 'description_18': 65,\n",
    " 'description_19': 52,\n",
    " 'open_0': 71,\n",
    " 'open_1': 73,\n",
    " 'open_2': 74,\n",
    " 'open_3': 87,\n",
    " 'open_4': 88,\n",
    " 'open_5': 75,\n",
    " 'open_6': 90,\n",
    " 'open_7': 86,\n",
    " 'open_8': 76,\n",
    " 'open_9': 77,\n",
    " 'open_10': 78,\n",
    " 'open_11': 79,\n",
    " 'open_12': 80,\n",
    " 'open_13': 81,\n",
    " 'open_14': 82,\n",
    " 'open_15': 89,\n",
    " 'open_16': 83,\n",
    " 'open_17': 84,\n",
    " 'open_18': 85,\n",
    " 'open_19': 72,\n",
    " 'state_0': 91,\n",
    " 'state_1': 93,\n",
    " 'state_2': 94,\n",
    " 'state_3': 107,\n",
    " 'state_4': 108,\n",
    " 'state_5': 95,\n",
    " 'state_6': 110,\n",
    " 'state_7': 106,\n",
    " 'state_8': 96,\n",
    " 'state_9': 97,\n",
    " 'state_10': 98,\n",
    "'state_11': 99,\n",
    " 'state_12': 100,\n",
    " 'state_13': 101,\n",
    " 'state_14': 102,\n",
    " 'state_15': 109,\n",
    " 'state_16': 103,\n",
    " 'state_17': 104,\n",
    " 'state_18': 105,\n",
    " 'state_19': 92}"
   ]
  },
  {
   "cell_type": "code",
   "execution_count": 26,
   "id": "d9dff62b-6518-4e24-b969-06715692cab0",
   "metadata": {},
   "outputs": [
    {
     "name": "stdout",
     "output_type": "stream",
     "text": [
      "{'Picture Placeholder 1': 10, 'Text Placeholder 2': 11, 'Text Placeholder 3': 12, 'Text Placeholder 4': 13, 'Text Placeholder 5': 29, 'Text Placeholder 6': 31, 'Text Placeholder 7': 32, 'Text Placeholder 8': 33, 'Text Placeholder 9': 34, 'Text Placeholder 10': 35, 'Text Placeholder 11': 36, 'Text Placeholder 12': 38, 'Text Placeholder 13': 39, 'Text Placeholder 14': 40, 'Text Placeholder 15': 41, 'Text Placeholder 16': 43, 'Text Placeholder 17': 44, 'Text Placeholder 18': 45, 'Text Placeholder 19': 46, 'Text Placeholder 20': 47, 'Text Placeholder 21': 48, 'Text Placeholder 22': 49, 'Text Placeholder 23': 50, 'Text Placeholder 24': 51, 'Text Placeholder 25': 52, 'Text Placeholder 26': 53, 'Text Placeholder 27': 54, 'Text Placeholder 28': 55, 'Text Placeholder 29': 56, 'Text Placeholder 30': 57, 'Text Placeholder 31': 58, 'Text Placeholder 32': 59, 'Text Placeholder 33': 60, 'Text Placeholder 34': 61, 'Text Placeholder 35': 62, 'Text Placeholder 36': 63, 'Text Placeholder 37': 64, 'Text Placeholder 38': 65, 'Text Placeholder 39': 66, 'Text Placeholder 40': 67, 'Text Placeholder 41': 68, 'Text Placeholder 42': 69, 'Text Placeholder 43': 70, 'Text Placeholder 44': 71, 'Text Placeholder 45': 72, 'Text Placeholder 46': 73, 'Text Placeholder 47': 74, 'Text Placeholder 48': 75, 'Text Placeholder 49': 76, 'Text Placeholder 50': 77, 'Text Placeholder 51': 78, 'Text Placeholder 52': 79, 'Text Placeholder 53': 80, 'Text Placeholder 54': 81, 'Text Placeholder 55': 82, 'Text Placeholder 56': 83, 'Text Placeholder 57': 84, 'Text Placeholder 58': 85, 'Text Placeholder 59': 86, 'Text Placeholder 60': 87, 'Text Placeholder 61': 88, 'Text Placeholder 62': 89, 'Text Placeholder 63': 90, 'Text Placeholder 64': 91, 'Text Placeholder 65': 92, 'Text Placeholder 66': 93, 'Text Placeholder 67': 94, 'Text Placeholder 68': 95, 'Text Placeholder 69': 96, 'Text Placeholder 70': 97, 'Text Placeholder 71': 98, 'Text Placeholder 72': 99, 'Text Placeholder 73': 100, 'Text Placeholder 74': 101, 'Text Placeholder 75': 102, 'Text Placeholder 76': 103, 'Text Placeholder 77': 104, 'Text Placeholder 78': 105, 'Text Placeholder 79': 106, 'Text Placeholder 80': 107, 'Text Placeholder 81': 108, 'Text Placeholder 82': 109, 'Text Placeholder 83': 110}\n"
     ]
    }
   ],
   "source": [
    "dict = {}\n",
    "template = 'my two kitties.pptx'\n",
    "prs = Presentation(template)\n",
    "slide = prs.slides[0]\n",
    "shapes = slide.shapes\n",
    "for shape in slide.placeholders:\n",
    "    #print('%d %s' % (shape.placeholder_format.idx, shape.name))\n",
    "    dict[shape.name] = shape.placeholder_format.idx\n",
    "    \n",
    "print(dict)"
   ]
  },
  {
   "cell_type": "code",
   "execution_count": 32,
   "id": "1f8a4353-b233-4449-bb04-f298238c0026",
   "metadata": {},
   "outputs": [
    {
     "ename": "TypeError",
     "evalue": "expected unicode string, got <class 'float'> value nan",
     "output_type": "error",
     "traceback": [
      "\u001b[1;31m---------------------------------------------------------------------------\u001b[0m",
      "\u001b[1;31mAttributeError\u001b[0m                            Traceback (most recent call last)",
      "File \u001b[1;32m~\\anaconda3\\lib\\site-packages\\pptx\\compat\\python3.py:38\u001b[0m, in \u001b[0;36mto_unicode\u001b[1;34m(text)\u001b[0m\n\u001b[0;32m     37\u001b[0m \u001b[38;5;28;01mtry\u001b[39;00m:\n\u001b[1;32m---> 38\u001b[0m     \u001b[38;5;28;01mreturn\u001b[39;00m \u001b[43mtext\u001b[49m\u001b[38;5;241;43m.\u001b[39;49m\u001b[43mdecode\u001b[49m(\u001b[38;5;124m\"\u001b[39m\u001b[38;5;124mutf-8\u001b[39m\u001b[38;5;124m\"\u001b[39m)\n\u001b[0;32m     39\u001b[0m \u001b[38;5;28;01mexcept\u001b[39;00m \u001b[38;5;167;01mAttributeError\u001b[39;00m:\n",
      "\u001b[1;31mAttributeError\u001b[0m: 'float' object has no attribute 'decode'",
      "\nDuring handling of the above exception, another exception occurred:\n",
      "\u001b[1;31mTypeError\u001b[0m                                 Traceback (most recent call last)",
      "Input \u001b[1;32mIn [32]\u001b[0m, in \u001b[0;36m<cell line: 2>\u001b[1;34m()\u001b[0m\n\u001b[0;32m      1\u001b[0m \u001b[38;5;66;03m#Insert Data into PPTX columns\u001b[39;00m\n\u001b[0;32m      2\u001b[0m \u001b[38;5;28;01mfor\u001b[39;00m idx , row \u001b[38;5;129;01min\u001b[39;00m df\u001b[38;5;241m.\u001b[39miterrows():\n\u001b[1;32m----> 3\u001b[0m     slide\u001b[38;5;241m.\u001b[39mplaceholders[d[\u001b[38;5;124mf\u001b[39m\u001b[38;5;124m'\u001b[39m\u001b[38;5;124mvendor_\u001b[39m\u001b[38;5;132;01m{\u001b[39;00midx\u001b[38;5;132;01m}\u001b[39;00m\u001b[38;5;124m'\u001b[39m]]\u001b[38;5;241m.\u001b[39mtext \u001b[38;5;241m=\u001b[39m row[\u001b[38;5;124m'\u001b[39m\u001b[38;5;124mVendor\u001b[39m\u001b[38;5;124m'\u001b[39m]\n\u001b[0;32m      4\u001b[0m     slide\u001b[38;5;241m.\u001b[39mplaceholders[d[\u001b[38;5;124mf\u001b[39m\u001b[38;5;124m'\u001b[39m\u001b[38;5;124mdescription_\u001b[39m\u001b[38;5;132;01m{\u001b[39;00midx\u001b[38;5;132;01m}\u001b[39;00m\u001b[38;5;124m'\u001b[39m]]\u001b[38;5;241m.\u001b[39mtext \u001b[38;5;241m=\u001b[39m row[\u001b[38;5;124m'\u001b[39m\u001b[38;5;124mDescription\u001b[39m\u001b[38;5;124m'\u001b[39m]\n\u001b[0;32m      5\u001b[0m     slide\u001b[38;5;241m.\u001b[39mplaceholders[d[\u001b[38;5;124mf\u001b[39m\u001b[38;5;124m'\u001b[39m\u001b[38;5;124mstate_\u001b[39m\u001b[38;5;132;01m{\u001b[39;00midx\u001b[38;5;132;01m}\u001b[39;00m\u001b[38;5;124m'\u001b[39m]]\u001b[38;5;241m.\u001b[39mtext \u001b[38;5;241m=\u001b[39m row[\u001b[38;5;124m'\u001b[39m\u001b[38;5;124mState\u001b[39m\u001b[38;5;124m'\u001b[39m]\n",
      "File \u001b[1;32m~\\anaconda3\\lib\\site-packages\\pptx\\shapes\\autoshape.py:383\u001b[0m, in \u001b[0;36mShape.text\u001b[1;34m(self, text)\u001b[0m\n\u001b[0;32m    381\u001b[0m \u001b[38;5;129m@text\u001b[39m\u001b[38;5;241m.\u001b[39msetter\n\u001b[0;32m    382\u001b[0m \u001b[38;5;28;01mdef\u001b[39;00m \u001b[38;5;21mtext\u001b[39m(\u001b[38;5;28mself\u001b[39m, text):\n\u001b[1;32m--> 383\u001b[0m     \u001b[38;5;28mself\u001b[39m\u001b[38;5;241m.\u001b[39mtext_frame\u001b[38;5;241m.\u001b[39mtext \u001b[38;5;241m=\u001b[39m text\n",
      "File \u001b[1;32m~\\anaconda3\\lib\\site-packages\\pptx\\text\\text.py:172\u001b[0m, in \u001b[0;36mTextFrame.text\u001b[1;34m(self, text)\u001b[0m\n\u001b[0;32m    170\u001b[0m txBody \u001b[38;5;241m=\u001b[39m \u001b[38;5;28mself\u001b[39m\u001b[38;5;241m.\u001b[39m_txBody\n\u001b[0;32m    171\u001b[0m txBody\u001b[38;5;241m.\u001b[39mclear_content()\n\u001b[1;32m--> 172\u001b[0m \u001b[38;5;28;01mfor\u001b[39;00m p_text \u001b[38;5;129;01min\u001b[39;00m \u001b[43mto_unicode\u001b[49m\u001b[43m(\u001b[49m\u001b[43mtext\u001b[49m\u001b[43m)\u001b[49m\u001b[38;5;241m.\u001b[39msplit(\u001b[38;5;124m\"\u001b[39m\u001b[38;5;130;01m\\n\u001b[39;00m\u001b[38;5;124m\"\u001b[39m):\n\u001b[0;32m    173\u001b[0m     p \u001b[38;5;241m=\u001b[39m txBody\u001b[38;5;241m.\u001b[39madd_p()\n\u001b[0;32m    174\u001b[0m     p\u001b[38;5;241m.\u001b[39mappend_text(p_text)\n",
      "File \u001b[1;32m~\\anaconda3\\lib\\site-packages\\pptx\\compat\\python3.py:40\u001b[0m, in \u001b[0;36mto_unicode\u001b[1;34m(text)\u001b[0m\n\u001b[0;32m     38\u001b[0m     \u001b[38;5;28;01mreturn\u001b[39;00m text\u001b[38;5;241m.\u001b[39mdecode(\u001b[38;5;124m\"\u001b[39m\u001b[38;5;124mutf-8\u001b[39m\u001b[38;5;124m\"\u001b[39m)\n\u001b[0;32m     39\u001b[0m \u001b[38;5;28;01mexcept\u001b[39;00m \u001b[38;5;167;01mAttributeError\u001b[39;00m:\n\u001b[1;32m---> 40\u001b[0m     \u001b[38;5;28;01mraise\u001b[39;00m \u001b[38;5;167;01mTypeError\u001b[39;00m(\u001b[38;5;124m\"\u001b[39m\u001b[38;5;124mexpected unicode string, got \u001b[39m\u001b[38;5;132;01m%s\u001b[39;00m\u001b[38;5;124m value \u001b[39m\u001b[38;5;132;01m%s\u001b[39;00m\u001b[38;5;124m\"\u001b[39m \u001b[38;5;241m%\u001b[39m (\u001b[38;5;28mtype\u001b[39m(text), text))\n",
      "\u001b[1;31mTypeError\u001b[0m: expected unicode string, got <class 'float'> value nan"
     ]
    }
   ],
   "source": [
    "\n",
    "#Insert Data into PPTX columns\n",
    "for idx , row in df.iterrows():\n",
    "    slide.placeholders[d[f'vendor_{idx}']].text = row['Vendor']\n",
    "    slide.placeholders[d[f'description_{idx}']].text = row['Description']\n",
    "    slide.placeholders[d[f'state_{idx}']].text = row['State']\n",
    "  "
   ]
  },
  {
   "cell_type": "code",
   "execution_count": null,
   "id": "5ab7dc5f-a620-4850-8d6e-e8289c04fa9a",
   "metadata": {},
   "outputs": [],
   "source": [
    "#Deleting Unused Placeholders\n",
    "x = len(df_recent)\n",
    "for idx in range(x , 20):\n",
    "    p = {\n",
    "        'vendor_placeholder':f'vendor_{idx}',\n",
    "        'description_placeholder':f'description_{idx}',\n",
    "        'open_placeholder':f'open_{idx}',\n",
    "        'state_placeholder':f'state_{idx}'\n",
    "    }\n",
    "    for k,v in p.items():\n",
    "        placeholder = slide.placeholders[d[v]]\n",
    "        sp = placeholder._sp\n",
    "        sp.getparent().remove(sp)\n",
    "output = 'test3.pptx'\n",
    "prs.save(output)"
   ]
  },
  {
   "cell_type": "code",
   "execution_count": null,
   "id": "7036b029-185a-4011-84bb-93bb2c5b18e9",
   "metadata": {},
   "outputs": [],
   "source": [
    "#Reference\n",
    "#Print out format IDs\n",
    "d = {}\n",
    "for shape in shapes:\n",
    "    if shape.is_placeholder:\n",
    "        d[shape.name] = shape.placeholder_format.idx\n",
    "d\n",
    "  Input In [1]\n",
    "    template = '_resources/CIO Dashboard Template.pptx'\n",
    "    "
   ]
  },
  {
   "cell_type": "code",
   "execution_count": 33,
   "id": "f68fd0fa-6755-4840-ae08-6754aa66482d",
   "metadata": {},
   "outputs": [],
   "source": [
    "d = {}\n",
    "for shape in shapes:\n",
    "    if shape.is_placeholder:\n",
    "        d[shape.name] = shape.placeholder_format.idx"
   ]
  }
 ],
 "metadata": {
  "kernelspec": {
   "display_name": "Python 3 (ipykernel)",
   "language": "python",
   "name": "python3"
  },
  "language_info": {
   "codemirror_mode": {
    "name": "ipython",
    "version": 3
   },
   "file_extension": ".py",
   "mimetype": "text/x-python",
   "name": "python",
   "nbconvert_exporter": "python",
   "pygments_lexer": "ipython3",
   "version": "3.9.12"
  }
 },
 "nbformat": 4,
 "nbformat_minor": 5
}
